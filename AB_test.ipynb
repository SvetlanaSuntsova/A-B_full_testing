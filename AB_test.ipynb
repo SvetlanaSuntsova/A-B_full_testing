{
 "cells": [
  {
   "cell_type": "markdown",
   "id": "b1221937-e446-4cdd-8ac9-800c18b3ab0c",
   "metadata": {},
   "source": [
    "#### Проведем A/B тест. В группе 2 был использован новый алгоритм рекомендации постов, группа 1 использовалась в качестве контроля. \n",
    "##### Основная гипотеза - новый алгоритм во 2-й группе приведет к увеличению CTR. \n",
    "##### Необходимо: \n",
    "##### Выбрать метод анализа и сравнить CTR в двух группах;\n",
    "##### сделать вывод."
   ]
  },
  {
   "cell_type": "code",
   "execution_count": 2,
   "id": "c12a7d3a-1a34-4fb7-aabb-ef9380e94d53",
   "metadata": {},
   "outputs": [],
   "source": [
    "# Подключаемся в БД.\n",
    "connection = {'host': 'https://clickhouse.lab.karpov.courses',\n",
    "'database':'simulator_20231220',\n",
    "'user':'student',\n",
    "'password':'dpo_python_2020'\n",
    "}"
   ]
  },
  {
   "cell_type": "code",
   "execution_count": 3,
   "id": "895346c7-8357-405b-8a29-ce6545ef537a",
   "metadata": {},
   "outputs": [],
   "source": [
    "# Загружаем библиотеки и модули.\n",
    "import pandas as pd\n",
    "import pandahouse as ph\n",
    "import seaborn as sns\n",
    "import matplotlib.pyplot as plt\n",
    "import numpy as np\n",
    "import hashlib\n",
    "import swifter\n",
    "from scipy import stats\n",
    "%matplotlib inline"
   ]
  },
  {
   "cell_type": "code",
   "execution_count": 4,
   "id": "2ab3259d-9253-480c-98a2-1968a638db3f",
   "metadata": {},
   "outputs": [],
   "source": [
    "# Выгружаем данные из БД.\n",
    "q = '''\n",
    "select  exp_group, \n",
    "    user_id,\n",
    "    sum(action = 'like') as likes,\n",
    "    sum(action = 'view') as views,\n",
    "    likes/views as ctr\n",
    "from {db}.feed_actions\n",
    "where toDate(time) >= '2023-11-18' and toDate(time) <= '2023-11-24' and  exp_group in (2,1)\n",
    "GROUP BY exp_group, user_id\n",
    "'''\n",
    "df = ph.read_clickhouse(q, connection=connection)"
   ]
  },
  {
   "cell_type": "code",
   "execution_count": 5,
   "id": "ecd76cd4-833e-4d6e-90ef-4549bd73627f",
   "metadata": {},
   "outputs": [
    {
     "data": {
      "text/html": [
       "<div>\n",
       "<style scoped>\n",
       "    .dataframe tbody tr th:only-of-type {\n",
       "        vertical-align: middle;\n",
       "    }\n",
       "\n",
       "    .dataframe tbody tr th {\n",
       "        vertical-align: top;\n",
       "    }\n",
       "\n",
       "    .dataframe thead th {\n",
       "        text-align: right;\n",
       "    }\n",
       "</style>\n",
       "<table border=\"1\" class=\"dataframe\">\n",
       "  <thead>\n",
       "    <tr style=\"text-align: right;\">\n",
       "      <th></th>\n",
       "      <th>exp_group</th>\n",
       "      <th>user_id</th>\n",
       "      <th>likes</th>\n",
       "      <th>views</th>\n",
       "      <th>ctr</th>\n",
       "    </tr>\n",
       "  </thead>\n",
       "  <tbody>\n",
       "    <tr>\n",
       "      <th>0</th>\n",
       "      <td>1</td>\n",
       "      <td>109963</td>\n",
       "      <td>3</td>\n",
       "      <td>15</td>\n",
       "      <td>0.200000</td>\n",
       "    </tr>\n",
       "    <tr>\n",
       "      <th>1</th>\n",
       "      <td>1</td>\n",
       "      <td>26117</td>\n",
       "      <td>32</td>\n",
       "      <td>141</td>\n",
       "      <td>0.226950</td>\n",
       "    </tr>\n",
       "    <tr>\n",
       "      <th>2</th>\n",
       "      <td>1</td>\n",
       "      <td>138232</td>\n",
       "      <td>18</td>\n",
       "      <td>73</td>\n",
       "      <td>0.246575</td>\n",
       "    </tr>\n",
       "    <tr>\n",
       "      <th>3</th>\n",
       "      <td>1</td>\n",
       "      <td>18392</td>\n",
       "      <td>7</td>\n",
       "      <td>32</td>\n",
       "      <td>0.218750</td>\n",
       "    </tr>\n",
       "    <tr>\n",
       "      <th>4</th>\n",
       "      <td>1</td>\n",
       "      <td>26295</td>\n",
       "      <td>39</td>\n",
       "      <td>141</td>\n",
       "      <td>0.276596</td>\n",
       "    </tr>\n",
       "    <tr>\n",
       "      <th>...</th>\n",
       "      <td>...</td>\n",
       "      <td>...</td>\n",
       "      <td>...</td>\n",
       "      <td>...</td>\n",
       "      <td>...</td>\n",
       "    </tr>\n",
       "    <tr>\n",
       "      <th>19892</th>\n",
       "      <td>2</td>\n",
       "      <td>17146</td>\n",
       "      <td>0</td>\n",
       "      <td>10</td>\n",
       "      <td>0.000000</td>\n",
       "    </tr>\n",
       "    <tr>\n",
       "      <th>19893</th>\n",
       "      <td>1</td>\n",
       "      <td>30872</td>\n",
       "      <td>11</td>\n",
       "      <td>59</td>\n",
       "      <td>0.186441</td>\n",
       "    </tr>\n",
       "    <tr>\n",
       "      <th>19894</th>\n",
       "      <td>2</td>\n",
       "      <td>25383</td>\n",
       "      <td>42</td>\n",
       "      <td>127</td>\n",
       "      <td>0.330709</td>\n",
       "    </tr>\n",
       "    <tr>\n",
       "      <th>19895</th>\n",
       "      <td>2</td>\n",
       "      <td>139020</td>\n",
       "      <td>17</td>\n",
       "      <td>41</td>\n",
       "      <td>0.414634</td>\n",
       "    </tr>\n",
       "    <tr>\n",
       "      <th>19896</th>\n",
       "      <td>2</td>\n",
       "      <td>17310</td>\n",
       "      <td>9</td>\n",
       "      <td>82</td>\n",
       "      <td>0.109756</td>\n",
       "    </tr>\n",
       "  </tbody>\n",
       "</table>\n",
       "<p>19897 rows × 5 columns</p>\n",
       "</div>"
      ],
      "text/plain": [
       "       exp_group  user_id  likes  views       ctr\n",
       "0              1   109963      3     15  0.200000\n",
       "1              1    26117     32    141  0.226950\n",
       "2              1   138232     18     73  0.246575\n",
       "3              1    18392      7     32  0.218750\n",
       "4              1    26295     39    141  0.276596\n",
       "...          ...      ...    ...    ...       ...\n",
       "19892          2    17146      0     10  0.000000\n",
       "19893          1    30872     11     59  0.186441\n",
       "19894          2    25383     42    127  0.330709\n",
       "19895          2   139020     17     41  0.414634\n",
       "19896          2    17310      9     82  0.109756\n",
       "\n",
       "[19897 rows x 5 columns]"
      ]
     },
     "execution_count": 5,
     "metadata": {},
     "output_type": "execute_result"
    }
   ],
   "source": [
    "df"
   ]
  },
  {
   "cell_type": "code",
   "execution_count": 6,
   "id": "4d5d9530-d1ec-48b9-86cd-b919c1026b03",
   "metadata": {},
   "outputs": [],
   "source": [
    "# Фрмируем группы.\n",
    "group_A = df[df.exp_group\t== 2].copy()\n",
    "group_B = df[df.exp_group\t== 1].copy()"
   ]
  },
  {
   "cell_type": "code",
   "execution_count": 7,
   "id": "557508f4-f70c-448a-b650-523725596cae",
   "metadata": {},
   "outputs": [
    {
     "data": {
      "text/plain": [
       "Ttest_indResult(statistic=-0.4051491913112757, pvalue=0.685373331140751)"
      ]
     },
     "execution_count": 7,
     "metadata": {},
     "output_type": "execute_result"
    }
   ],
   "source": [
    "# Применяем т-тест.\n",
    "stats.ttest_ind(group_A.ctr, group_B.ctr, equal_var = False)\n"
   ]
  },
  {
   "cell_type": "code",
   "execution_count": 8,
   "id": "46cb2c7e-a099-47db-9782-fdc02cf8ee3e",
   "metadata": {},
   "outputs": [],
   "source": [
    "# По результатам т-теста недостаточно оснований сказать, чото отличия между CTR есть."
   ]
  },
  {
   "cell_type": "code",
   "execution_count": 9,
   "id": "191ca9ba-e559-44e4-a571-c0945880ba74",
   "metadata": {},
   "outputs": [],
   "source": [
    "# Сделаем сглаженный CTR.\n",
    "def get_smothed_ctr(user_likes, user_views, global_ctr, alpha):\n",
    "    smothed_ctr = (user_likes + alpha * global_ctr) / (user_views + alpha)\n",
    "    return smothed_ctr\n",
    "\n",
    "global_ctr_A= df[df.exp_group == 2].likes.sum()/df[df.exp_group == 2].views.sum()\n",
    "global_ctr_B = df[df.exp_group == 1].likes.sum()/df[df.exp_group == 1].views.sum()"
   ]
  },
  {
   "cell_type": "code",
   "execution_count": 10,
   "id": "e35e1df6-e0b7-4ac5-af47-d482c7373eda",
   "metadata": {},
   "outputs": [],
   "source": [
    "group_A['smoothed_ctr'] = df.apply(lambda x: get_smothed_ctr(x['likes'], x['views'], global_ctr_A, 5), axis = 1)"
   ]
  },
  {
   "cell_type": "code",
   "execution_count": 11,
   "id": "3ed3567b-6f14-4118-afed-56bb885bfa4a",
   "metadata": {},
   "outputs": [],
   "source": [
    "group_B['smoothed_ctr'] = df.apply(lambda x: get_smothed_ctr(x['likes'], x['views'], global_ctr_B, 5), axis = 1)"
   ]
  },
  {
   "cell_type": "code",
   "execution_count": 12,
   "id": "a363775f-afa0-4dd7-a87b-d4f2cced01e5",
   "metadata": {},
   "outputs": [
    {
     "data": {
      "text/plain": [
       "Ttest_indResult(statistic=-1.9460491517027683, pvalue=0.05166679015318526)"
      ]
     },
     "execution_count": 12,
     "metadata": {},
     "output_type": "execute_result"
    }
   ],
   "source": [
    "# Применяем т-тест для сравнения сглаженного ctr.\n",
    "stats.ttest_ind(group_A.smoothed_ctr, group_B.smoothed_ctr, equal_var = False)"
   ]
  },
  {
   "cell_type": "code",
   "execution_count": 13,
   "id": "bcfe4c57-4dad-4dc3-9560-e1e6ddaa9c7d",
   "metadata": {},
   "outputs": [],
   "source": [
    "# По результатам т-теста на сглаженном ctr есть основания отвергнуть нулевую гипотезу о равенстве распределений. Однако сам \\\n",
    "# сглаженный ctr не имеет теоретических гарантий."
   ]
  },
  {
   "cell_type": "code",
   "execution_count": 14,
   "id": "d599b96e-d98a-4352-b7bc-e8741f7b4aed",
   "metadata": {},
   "outputs": [
    {
     "data": {
      "image/png": "[encoded data removed]",
      "text/plain": [
       "<Figure size 842.4x595.44 with 1 Axes>"
      ]
     },
     "metadata": {},
     "output_type": "display_data"
    }
   ],
   "source": [
    "# Сделаем визуализацию.\n",
    "sns.set(rc={'figure.figsize':(11.7,8.27)})\n",
    "\n",
    "groups = sns.histplot(data = df, \n",
    "              x='ctr', \n",
    "              hue='exp_group', \n",
    "              palette = ['r', 'b'],\n",
    "              alpha=0.5,\n",
    "              kde=False)"
   ]
  },
  {
   "cell_type": "code",
   "execution_count": 15,
   "id": "3fb7fc60-b7e1-4320-853d-9a2736fc4dc7",
   "metadata": {},
   "outputs": [],
   "source": [
    "# По графику видим, что различия есть, но, возможно, т-тест не замечает их."
   ]
  },
  {
   "cell_type": "code",
   "execution_count": 16,
   "id": "11ccd6a1-326d-440b-8e4e-d20dee530d44",
   "metadata": {},
   "outputs": [],
   "source": [
    "# Проведем bootstrap."
   ]
  },
  {
   "cell_type": "code",
   "execution_count": 17,
   "id": "fb2179a1-9bc2-411d-8841-9fa9245f34a2",
   "metadata": {},
   "outputs": [
    {
     "data": {
      "text/plain": [
       "<Axes: ylabel='Count'>"
      ]
     },
     "execution_count": 17,
     "metadata": {},
     "output_type": "execute_result"
    },
    {
     "data": {
      "image/png": "[encoded data removed]",
      "text/plain": [
       "<Figure size 842.4x595.44 with 1 Axes>"
      ]
     },
     "metadata": {},
     "output_type": "display_data"
    }
   ],
   "source": [
    "# Функция для bootstrap.\n",
    "def bootstrap(likes1, views1, likes2, views2, n_bootstrap=2000):\n",
    "\n",
    "    poisson_bootstraps1 = stats.poisson(1).rvs(\n",
    "        (n_bootstrap, len(likes1))).astype(np.int64)\n",
    "\n",
    "    poisson_bootstraps2 = stats.poisson(1).rvs(\n",
    "            (n_bootstrap, len(likes2))).astype(np.int64)\n",
    "    \n",
    "    globalCTR1 = (poisson_bootstraps1*likes1).sum(axis=1)/(poisson_bootstraps1*views1).sum(axis=1)\n",
    "    \n",
    "    globalCTR2 = (poisson_bootstraps2*likes2).sum(axis=1)/(poisson_bootstraps2*views2).sum(axis=1)\n",
    "\n",
    "    return globalCTR1, globalCTR2\n",
    "\n",
    "\n",
    "likes1 = df[df.exp_group == 2].likes.to_numpy()\n",
    "views1 = df[df.exp_group == 2].views.to_numpy()\n",
    "likes2 = df[df.exp_group == 1].likes.to_numpy()\n",
    "views2 = df[df.exp_group == 1].views.to_numpy()\n",
    "\n",
    "ctr1, ctr2 = bootstrap(likes1, views1, likes2, views2)\n",
    "\n",
    "sns.histplot(ctr1)\n",
    "sns.histplot(ctr2)"
   ]
  },
  {
   "cell_type": "code",
   "execution_count": 18,
   "id": "d642dea3-75d5-4da4-8ac4-6510071f044c",
   "metadata": {},
   "outputs": [],
   "source": [
    "# По результатам бутстрапа новый алгоритм значимо хуже, чем старый, если мы сравниваем ctr."
   ]
  },
  {
   "cell_type": "code",
   "execution_count": 19,
   "id": "6e0d5146-48e0-43ce-ab46-8657d8792032",
   "metadata": {},
   "outputs": [],
   "source": [
    "# Сделаем бакетное преобразование."
   ]
  },
  {
   "cell_type": "code",
   "execution_count": 23,
   "id": "1090ed48-8087-42d6-ba85-a6787749c596",
   "metadata": {},
   "outputs": [
    {
     "data": {
      "text/plain": [
       "MannwhitneyuResult(statistic=503.0, pvalue=2.6576427804010095e-07)"
      ]
     },
     "execution_count": 23,
     "metadata": {},
     "output_type": "execute_result"
    }
   ],
   "source": [
    "q = \"\"\"\n",
    "\n",
    "SELECT exp_group, bucket,\n",
    "    sum(likes)/sum(views) as bucket_ctr,\n",
    "    quantileExact(0.9)(ctr) as ctr9\n",
    "FROM (SELECT exp_group, \n",
    "        xxHash64(user_id)%50 as bucket,\n",
    "        user_id,\n",
    "        sum(action = 'like') as likes,\n",
    "        sum(action = 'view') as views,\n",
    "        likes/views as ctr\n",
    "    FROM {db}.feed_actions \n",
    "where toDate(time) >= '2023-11-18' and toDate(time) <= '2023-11-24' and  exp_group in (2,1)\n",
    "    GROUP BY exp_group, bucket, user_id)\n",
    "GROUP BY exp_group, bucket\n",
    "\"\"\"\n",
    "\n",
    "df_bucket = ph.read_clickhouse(q, connection=connection)\n",
    "\n",
    "# Применяем тест Манна-Уитни.\n",
    "stats.mannwhitneyu(df_bucket[df_bucket.exp_group == 2].bucket_ctr, \n",
    "                   df_bucket[df_bucket.exp_group == 1].bucket_ctr, \n",
    "                   alternative = 'two-sided')"
   ]
  },
  {
   "cell_type": "code",
   "execution_count": null,
   "id": "32481a27-3e23-42c3-a892-c886e5e9507f",
   "metadata": {},
   "outputs": [],
   "source": [
    "#тест Манна-Уитни видит значимое отличие."
   ]
  },
  {
   "cell_type": "code",
   "execution_count": 26,
   "id": "8ed966c2-1867-4e22-b0c3-95383ec65760",
   "metadata": {},
   "outputs": [
    {
     "data": {
      "image/png": "[encoded data removed]",
      "text/plain": [
       "<Figure size 842.4x595.44 with 1 Axes>"
      ]
     },
     "metadata": {},
     "output_type": "display_data"
    }
   ],
   "source": [
    "sns.set(rc={'figure.figsize':(11.7,8.27)})\n",
    "groups = sns.histplot(data = df_bucket, \n",
    "              x='bucket_ctr', \n",
    "              hue='exp_group', \n",
    "              palette = ['r', 'b'],\n",
    "              alpha=0.5,\n",
    "              kde=False)"
   ]
  },
  {
   "cell_type": "code",
   "execution_count": 27,
   "id": "7ace806b-153f-43ac-ac88-8c704a3ab683",
   "metadata": {},
   "outputs": [],
   "source": [
    "# Построив график, убеждаемся, что контрольная группа находится правеe тестовой, и CTR у нее больше."
   ]
  },
  {
   "cell_type": "markdown",
   "id": "c18179dc-a777-492e-8ac9-160369e1ffcb",
   "metadata": {},
   "source": [
    "#### Вывод: пока не следует раскатывать новый алгоритм рекомендаций на всех пользователей. Он требут дополнительной прработки и исследования."
   ]
  },
  {
   "cell_type": "code",
   "execution_count": null,
   "id": "efe26128-9ec8-4f27-895d-eb209525995f",
   "metadata": {},
   "outputs": [],
   "source": []
  }
 ],
 "metadata": {
  "kernelspec": {
   "display_name": "Python 3 (ipykernel)",
   "language": "python",
   "name": "python3"
  },
  "language_info": {
   "codemirror_mode": {
    "name": "ipython",
    "version": 3
   },
   "file_extension": ".py",
   "mimetype": "text/x-python",
   "name": "python",
   "nbconvert_exporter": "python",
   "pygments_lexer": "ipython3",
   "version": "3.8.10"
  }
 },
 "nbformat": 4,
 "nbformat_minor": 5
}
